{
 "cells": [
  {
   "cell_type": "markdown",
   "id": "f278d14b-71d5-4c24-991d-e84a666f4b81",
   "metadata": {},
   "source": [
    "#### , you can download the used dataset from kaggle."
   ]
  },
  {
   "cell_type": "code",
   "execution_count": null,
   "id": "297d10fb-6a92-4064-9053-bde3a4f193c3",
   "metadata": {},
   "outputs": [],
   "source": [
    "import pandas as pd\n",
    "import matplotlib.pyplot as plt\n",
    "import re\n",
    "from nltk.corpus import stopwords\n",
    "from nltk.stem import PorterStemmer\n",
    "from sklearn.feature_extraction.text import TfidfVectorizer\n",
    "from sklearn.model_selection import train_test_split\n",
    "from sklearn.svm import SVC\n",
    "from sklearn.metrics import classification_report"
   ]
  },
  {
   "cell_type": "code",
   "execution_count": null,
   "id": "4abee127-42c6-4855-a3e0-7f30150aa9dc",
   "metadata": {},
   "outputs": [],
   "source": [
    "data = pd.read_csv(\"SPAM text message 20170820 - Data.csv\")\n",
    "data.head()"
   ]
  },
  {
   "cell_type": "code",
   "execution_count": null,
   "id": "be040f25-e8be-4b2a-8a78-8fcb5e491d8e",
   "metadata": {},
   "outputs": [],
   "source": [
    "data[\"Category\"].replace({'ham': 0 ,'spam': 1}, inplace=True);"
   ]
  },
  {
   "cell_type": "code",
   "execution_count": null,
   "id": "a1643e03-f4a5-460e-97e5-bf0d6f8a9a24",
   "metadata": {},
   "outputs": [],
   "source": [
    "stemmer = PorterStemmer()\n",
    "corpus = []\n",
    "msg_num = len(data['Message'])"
   ]
  },
  {
   "cell_type": "code",
   "execution_count": null,
   "id": "f69cccb7-d81c-4303-95a3-55c0a7506740",
   "metadata": {},
   "outputs": [],
   "source": [
    "for i in range(msg_num): ## or --> for index & rows in data['Massage'].iterrows()\n",
    "    msg = data['Message'][i]\n",
    "    msg = re.sub(\"[^a-zA-Z]\", \" \", msg)\n",
    "    msg = msg.lower()\n",
    "    msg = msg.split()\n",
    "    msg = [stemmer.stem(word) for word in msg if not word in set(stopwords.words('english'))]\n",
    "    msg = \" \".join(msg)\n",
    "    corpus.append(msg)"
   ]
  },
  {
   "cell_type": "code",
   "execution_count": null,
   "id": "af7090ba-dacf-47eb-b654-742050b94481",
   "metadata": {},
   "outputs": [],
   "source": [
    "tf = TfidfVectorizer()\n",
    "tf.fit(corpus)\n",
    "X = tf.transform(corpus).toarray()\n",
    "Y = data['Category']"
   ]
  },
  {
   "cell_type": "code",
   "execution_count": null,
   "id": "874850f2-d2b1-4fff-b824-451551e043f5",
   "metadata": {},
   "outputs": [],
   "source": [
    "x_train,x_test, y_train, y_test = train_test_split(X, Y, test_size = 0.20, random_state = 0)"
   ]
  },
  {
   "cell_type": "code",
   "execution_count": null,
   "id": "3b9c04a0-ec86-4b4f-b497-69c805de395c",
   "metadata": {},
   "outputs": [],
   "source": [
    "model = SVC()"
   ]
  },
  {
   "cell_type": "code",
   "execution_count": null,
   "id": "3fe77302-644c-4c36-afd0-3c8eb7b41726",
   "metadata": {
    "scrolled": true
   },
   "outputs": [],
   "source": [
    "model.fit(x_train,y_train)"
   ]
  },
  {
   "cell_type": "code",
   "execution_count": null,
   "id": "055aadf8-d6b0-43a0-b2b7-2e609a6be77d",
   "metadata": {},
   "outputs": [],
   "source": [
    "y_pred = model.predict(x_test)"
   ]
  },
  {
   "cell_type": "code",
   "execution_count": null,
   "id": "6fa52c27-d332-4bf3-940d-b2b7282466d5",
   "metadata": {},
   "outputs": [],
   "source": [
    "print(classification_report(y_true=y_test,y_pred=y_pred))"
   ]
  },
  {
   "cell_type": "code",
   "execution_count": null,
   "id": "36127f97-ff78-453d-adcb-6aae9b091be6",
   "metadata": {},
   "outputs": [],
   "source": [
    " "
   ]
  }
 ],
 "metadata": {
  "kernelspec": {
   "display_name": "Python 3 (ipykernel)",
   "language": "python",
   "name": "python3"
  },
  "language_info": {
   "codemirror_mode": {
    "name": "ipython",
    "version": 3
   },
   "file_extension": ".py",
   "mimetype": "text/x-python",
   "name": "python",
   "nbconvert_exporter": "python",
   "pygments_lexer": "ipython3",
   "version": "3.12.3"
  }
 },
 "nbformat": 4,
 "nbformat_minor": 5
}
