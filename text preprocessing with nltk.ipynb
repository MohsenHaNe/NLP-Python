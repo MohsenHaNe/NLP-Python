{
 "cells": [
  {
   "cell_type": "code",
   "execution_count": 1,
   "id": "dc9531c9-12db-4e5b-8c48-6688628c88d0",
   "metadata": {},
   "outputs": [],
   "source": [
    "from nltk.stem.porter import PorterStemmer\n",
    "from nltk.stem.lancaster import LancasterStemmer\n",
    "from nltk.tokenize import word_tokenize , sent_tokenize"
   ]
  },
  {
   "cell_type": "markdown",
   "id": "92eb3d10-bfd7-4e17-b0e8-27ec5441eb5e",
   "metadata": {
    "jp-MarkdownHeadingCollapsed": true
   },
   "source": [
    "## Tokenize & Normalize"
   ]
  },
  {
   "cell_type": "code",
   "execution_count": null,
   "id": "979c7d23-ad89-4a4e-bc04-8db37f2476dd",
   "metadata": {},
   "outputs": [],
   "source": [
    "test = '''Lorem ipsum dolor sit amet. consectetur adipiscing elit, sed do eiusmod tempor incididunt ut labore et dolore magna aliqua .Egestas purus viverra accumsan in nisl nisi Arcu cursus vitae congue mauris rhoncus aenean vel elit scelerisque In egestas erat imperdiet sed euismod nisi .porta lorem mollis Morbi tristique senectus et netus. Mattis pellentesque id nibh tortor id aliquet lectus proin'''"
   ]
  },
  {
   "cell_type": "code",
   "execution_count": null,
   "id": "0b8e76f8-9c8d-464b-af48-abc48bdb772f",
   "metadata": {},
   "outputs": [],
   "source": [
    "sentens = sent_tokenize(test)\n",
    "len(sentens)"
   ]
  },
  {
   "cell_type": "code",
   "execution_count": null,
   "id": "3045522b-f162-4075-a5d9-2d0237506aff",
   "metadata": {},
   "outputs": [],
   "source": [
    "wordds = word_tokenize(test)\n",
    "words"
   ]
  },
  {
   "cell_type": "markdown",
   "id": "53fe4ca4-0418-4b3b-866f-43aca30e5a8a",
   "metadata": {
    "jp-MarkdownHeadingCollapsed": true
   },
   "source": [
    "## Stemming"
   ]
  },
  {
   "cell_type": "code",
   "execution_count": null,
   "id": "ed2f2302-d142-4172-bbe8-8be1c1d2998a",
   "metadata": {},
   "outputs": [],
   "source": [
    "tokened = list(word_tokenize(text))"
   ]
  },
  {
   "cell_type": "code",
   "execution_count": null,
   "id": "1265351b-09ce-4dd9-868e-8234a579180e",
   "metadata": {},
   "outputs": [],
   "source": [
    "stemer = PorterStemmer()"
   ]
  },
  {
   "cell_type": "code",
   "execution_count": null,
   "id": "e396e11c-de58-4590-ad69-a720c6ab0495",
   "metadata": {},
   "outputs": [],
   "source": [
    "text = 'hello everybody iam mohsen hassan nezhad from irian. my dad is mohammad and my mom is zahra.im learbibg datascine and this is for nlp'"
   ]
  },
  {
   "cell_type": "code",
   "execution_count": null,
   "id": "1c63215c-faac-4fb4-bb55-7732d14400c5",
   "metadata": {
    "scrolled": true
   },
   "outputs": [],
   "source": [
    "for token in tokened:\n",
    "    print(token + '->' +stemer.stem(token))"
   ]
  },
  {
   "cell_type": "code",
   "execution_count": null,
   "id": "bbf86b6b-6081-4eb4-933d-1a795d869b68",
   "metadata": {},
   "outputs": [],
   "source": [
    "lancstem = LancasterStemmer()"
   ]
  },
  {
   "cell_type": "code",
   "execution_count": null,
   "id": "44a292f8-247d-4306-958b-134d8c6f5b30",
   "metadata": {},
   "outputs": [],
   "source": [
    "for token in tokened:\n",
    "    print(token + '->' + lancstem.stem(token))"
   ]
  },
  {
   "cell_type": "markdown",
   "id": "ffd4e607-23eb-4a95-b7e2-c3e4161e19d5",
   "metadata": {
    "jp-MarkdownHeadingCollapsed": true
   },
   "source": [
    "## Lemmatization"
   ]
  },
  {
   "cell_type": "code",
   "execution_count": null,
   "id": "4cd6b287-ec59-47be-8f37-e323147138d9",
   "metadata": {},
   "outputs": [],
   "source": [
    "from nltk.stem.wordnet import WordNetLemmatizer"
   ]
  },
  {
   "cell_type": "code",
   "execution_count": null,
   "id": "07022fdc-6320-49b8-8353-02600a897ea7",
   "metadata": {},
   "outputs": [],
   "source": [
    "Lemmatiz = WordNetLemmatizer()"
   ]
  },
  {
   "cell_type": "code",
   "execution_count": null,
   "id": "39c3f4c8-b2d9-4186-a52e-83578faba2e5",
   "metadata": {},
   "outputs": [],
   "source": [
    "words = ['connect','cannot','connected','disconnect','connection']"
   ]
  },
  {
   "cell_type": "code",
   "execution_count": null,
   "id": "3114258d-5edf-4011-9321-e02b9d6a65a5",
   "metadata": {},
   "outputs": [],
   "source": [
    "for word in words:\n",
    "    print(word+'-> '+stemer.stem(word))\n",
    "    print(word+'-> ' +Lemmatiz.lemmatize(word,pos='v'))\n",
    "    print('\\n')"
   ]
  },
  {
   "cell_type": "markdown",
   "id": "ec132a61-53ce-4cdd-a8fd-54f48b624c8b",
   "metadata": {
    "jp-MarkdownHeadingCollapsed": true
   },
   "source": [
    "## Bow & TF-IDF (Text Vectorize)"
   ]
  },
  {
   "cell_type": "code",
   "execution_count": 2,
   "id": "43ad440c-2ae1-421f-a7ca-e5d8e309f578",
   "metadata": {},
   "outputs": [],
   "source": [
    "sample = '''every now and then a movie comes along from a suspect studio , with every indication that it will be a stinker , and to everybody's surprise ( perhaps even the studio ) the film becomes a critical darling . \n",
    "mtv films' _election , a high school comedy starring matthew broderick and reese witherspoon , is a current example . \n",
    "did anybody know this film existed a week before it opened ? \n",
    "the plot is deceptively simple . \n",
    "george washington carver high school is having student elections . \n",
    "tracy flick ( reese witherspoon ) is an over-achiever with her hand raised at nearly every question , way , way , high . \n",
    "mr . \" m \" ( matthew broderick ) , sick of the megalomaniac student , encourages paul , a popular-but-slow jock to run . \n",
    "and paul's nihilistic sister jumps in the race as well , for personal reasons . \n",
    "the dark side of such sleeper success is that , because expectations were so low going in , the fact that this was quality stuff made the reviews even more enthusiastic than they have any right to be . \n",
    "'''"
   ]
  },
  {
   "cell_type": "code",
   "execution_count": 3,
   "id": "1c9d8c6b-ea13-4877-b60b-6806c93dae4d",
   "metadata": {},
   "outputs": [],
   "source": [
    "sample = sample.lower()"
   ]
  },
  {
   "cell_type": "code",
   "execution_count": 4,
   "id": "712f052d-0dca-4eaf-b02c-9b164e57d297",
   "metadata": {},
   "outputs": [],
   "source": [
    "from string import punctuation\n",
    "from nltk.corpus import stopwords"
   ]
  },
  {
   "cell_type": "code",
   "execution_count": 5,
   "id": "230a6fd6-7471-4741-a246-a6bcb8aaf76a",
   "metadata": {},
   "outputs": [],
   "source": [
    "translator = str.maketrans('','',punctuation)"
   ]
  },
  {
   "cell_type": "code",
   "execution_count": 6,
   "id": "5f32ba35-82d9-4c01-a387-32bac127898a",
   "metadata": {},
   "outputs": [],
   "source": [
    "sents = sent_tokenize(sample)"
   ]
  },
  {
   "cell_type": "code",
   "execution_count": 7,
   "id": "2e856fa9-309a-4a24-a54a-7bfdd30d5feb",
   "metadata": {},
   "outputs": [],
   "source": [
    "stemer = PorterStemmer()"
   ]
  },
  {
   "cell_type": "code",
   "execution_count": 8,
   "id": "3a91e546-7193-461e-88b9-85097c2902d9",
   "metadata": {},
   "outputs": [],
   "source": [
    "stops = stopwords.words('english')"
   ]
  },
  {
   "cell_type": "code",
   "execution_count": 16,
   "id": "3cc8714d-16b0-4c0e-a11f-c7bfcc794445",
   "metadata": {},
   "outputs": [],
   "source": [
    "corpus=[]\n",
    "for sent in sents:\n",
    "    tokend = word_tokenize(sent) \n",
    "    punc_clean = [word.translate(translator) for word in tokend]\n",
    "    stemed_word = [stemer.stem(word) for word in punc_clean if not word in set(stops)]\n",
    "    res  = ' '.join(stemed_word)\n",
    "    corpus.append(res)\n",
    "    "
   ]
  },
  {
   "cell_type": "code",
   "execution_count": 9,
   "id": "07c7ab61-c8a1-42bb-bea9-2db54ebba496",
   "metadata": {},
   "outputs": [],
   "source": [
    "import pandas as pd"
   ]
  },
  {
   "cell_type": "code",
   "execution_count": 23,
   "id": "e3092f6c-9bdf-4981-8e03-fc6fae3cc7f0",
   "metadata": {},
   "outputs": [],
   "source": [
    "#df = pd.DataFrame(columns=['Text'])\n",
    "#df['Text'] = corpus"
   ]
  },
  {
   "cell_type": "code",
   "execution_count": 25,
   "id": "70a877dd-eb4d-485c-a030-d8ee97ce4e07",
   "metadata": {},
   "outputs": [
    {
     "data": {
      "text/plain": [
       "['everi movi come along suspect studio  everi indic stinker  everybodi surpris  perhap even studio  film becom critic darl ',\n",
       " 'mtv film  elect  high school comedi star matthew broderick rees witherspoon  current exampl ',\n",
       " 'anybodi know film exist week open ',\n",
       " 'plot decept simpl ',\n",
       " 'georg washington carver high school student elect ',\n",
       " 'traci flick  rees witherspoon  overachiev hand rais nearli everi question  way  way  high ',\n",
       " 'mr  ',\n",
       " '  matthew broderick   sick megalomaniac student  encourag paul  popularbutslow jock run ',\n",
       " 'paul nihilist sister jump race well  person reason ',\n",
       " 'dark side sleeper success  expect low go  fact qualiti stuff made review even enthusiast right ']"
      ]
     },
     "execution_count": 25,
     "metadata": {},
     "output_type": "execute_result"
    }
   ],
   "source": [
    "corpus"
   ]
  },
  {
   "cell_type": "code",
   "execution_count": 35,
   "id": "9acdadbd-12d9-4ece-abcd-60e93b037089",
   "metadata": {},
   "outputs": [],
   "source": [
    "from sklearn.feature_extraction.text import CountVectorizer\n",
    "from sklearn.feature_extraction.text import TfidfVectorizer"
   ]
  },
  {
   "cell_type": "code",
   "execution_count": 27,
   "id": "04aec28a-bf36-49aa-b93c-bc13da40d623",
   "metadata": {},
   "outputs": [],
   "source": [
    "cvt = CountVectorizer()"
   ]
  },
  {
   "cell_type": "code",
   "execution_count": 38,
   "id": "e0af19c5-611c-422e-8939-78c79c6e4aef",
   "metadata": {},
   "outputs": [],
   "source": [
    "bow = cvt.fit_transform(corpus)"
   ]
  },
  {
   "cell_type": "code",
   "execution_count": 39,
   "id": "86cda6eb-2368-40dd-87bd-045b46a6603e",
   "metadata": {},
   "outputs": [],
   "source": [
    "tfv = TfidfVectorizer()"
   ]
  },
  {
   "cell_type": "code",
   "execution_count": 41,
   "id": "c934bf6f-2a9e-4b32-9e9b-18c57781fb54",
   "metadata": {},
   "outputs": [],
   "source": [
    "tfidf = tfv.fit_transform(corpus)"
   ]
  },
  {
   "cell_type": "code",
   "execution_count": 42,
   "id": "b26fbb97-b6df-4ad1-8b80-dc4d8cbdeb3d",
   "metadata": {},
   "outputs": [
    {
     "data": {
      "text/plain": [
       "<10x77 sparse matrix of type '<class 'numpy.float64'>'\n",
       "\twith 91 stored elements in Compressed Sparse Row format>"
      ]
     },
     "execution_count": 42,
     "metadata": {},
     "output_type": "execute_result"
    }
   ],
   "source": [
    "tfidf"
   ]
  },
  {
   "cell_type": "code",
   "execution_count": null,
   "id": "f0eaef16-4e33-49cc-8438-64531efa6c50",
   "metadata": {},
   "outputs": [],
   "source": []
  }
 ],
 "metadata": {
  "kernelspec": {
   "display_name": "Python 3 (ipykernel)",
   "language": "python",
   "name": "python3"
  },
  "language_info": {
   "codemirror_mode": {
    "name": "ipython",
    "version": 3
   },
   "file_extension": ".py",
   "mimetype": "text/x-python",
   "name": "python",
   "nbconvert_exporter": "python",
   "pygments_lexer": "ipython3",
   "version": "3.12.3"
  }
 },
 "nbformat": 4,
 "nbformat_minor": 5
}
